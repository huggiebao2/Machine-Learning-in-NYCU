{
 "cells": [
  {
   "cell_type": "markdown",
   "metadata": {},
   "source": [
    "## **上週複習**\n",
    "- 為什麼要學 class？\n",
    "- 好的程式應該要自動化\n",
    "- `__init__` 的觀念"
   ]
  },
  {
   "cell_type": "markdown",
   "metadata": {},
   "source": [
    "## **類別 (class) 的建立 (續上次上課)**\n",
    "### **在類別定義中，建立全域變數 (global variable)**\n",
    "- 使用 `global` 來建立。不過在建立前須宣告。例如：\n",
    "    ```python\n",
    "    class ClassName:\n",
    "        global global_var\n",
    "        def __init__(self):\n",
    "            global global_var\n",
    "    ```"
   ]
  },
  {
   "cell_type": "code",
   "execution_count": 13,
   "metadata": {},
   "outputs": [],
   "source": [
    "# practice\n",
    "\n",
    "class Patient:\n",
    "    global patient_id               # annouce a global variable\n",
    "    patient_id = 0                  # set a initial value\n",
    "\n",
    "    def __init__(self, name):\n",
    "        self.name = name\n",
    "        global patient_id\n",
    "        patient_id += 1             # accumulate the global value\n",
    "        self.pid = patient_id       # using a attribute to store the global value, making the global value merely a counter\n",
    "        self.height = None\n",
    "\n",
    "    def get_name(self):             # these are 'getters'\n",
    "        return self.name\n",
    "    \n",
    "    def get_pid(self):\n",
    "        return self.pid\n",
    "\n",
    "    def get_height(self):\n",
    "        return self.height\n",
    "    \n",
    "    def set_height(self, height):   # this is a 'setter\n",
    "        self.height = float(height)"
   ]
  },
  {
   "cell_type": "code",
   "execution_count": 14,
   "metadata": {},
   "outputs": [
    {
     "name": "stdout",
     "output_type": "stream",
     "text": [
      "137.0\n"
     ]
    }
   ],
   "source": [
    "a = Patient('A')\n",
    "a.set_height(137)\n",
    "print(a.get_height())"
   ]
  },
  {
   "cell_type": "code",
   "execution_count": 21,
   "metadata": {},
   "outputs": [
    {
     "name": "stdout",
     "output_type": "stream",
     "text": [
      "Patient Name: Ling       Height: 166.0\n",
      "----------------------------------------\n",
      "Patient Name: John       Height: 178.0\n",
      "----------------------------------------\n",
      "Patient Name: Marry      Height: 155.0\n",
      "----------------------------------------\n",
      "Patient Name: Josh       Height: 200.0\n",
      "----------------------------------------\n",
      "Patient Name: Jean       Height: 154.0\n",
      "----------------------------------------\n",
      "Patient Name: Berry      Height: 162.0\n",
      "----------------------------------------\n"
     ]
    }
   ],
   "source": [
    "# produce objects using list\n",
    "\n",
    "patient_objs = []\n",
    "\n",
    "for name in ['Ling', 'John', 'Marry', 'Josh', 'Jean', 'Berry']:\n",
    "    patient_objs.append(Patient(name))\n",
    "for i, height in enumerate([166, 178, 155, 200, 154, 162]):\n",
    "    patient_objs[i].set_height(height)\n",
    "\n",
    "for p in patient_objs:\n",
    "    a = 'Patient Name: ' + p.get_name()\n",
    "    b = 'Height: ' + str(p.get_height())\n",
    "    print('{:<25}{:<10}'.format(a, b))\n",
    "    print('----------------------------------------')"
   ]
  },
  {
   "cell_type": "markdown",
   "metadata": {},
   "source": [
    "## **建立 Hierarchy 的 Class**\n",
    "這裡讓 Patient 成為 Hospital 的ㄧ部分"
   ]
  },
  {
   "cell_type": "code",
   "execution_count": 22,
   "metadata": {},
   "outputs": [],
   "source": [
    "# create a class called Hospital\n",
    "class Hospital:\n",
    "    def __init__(self):\n",
    "        self.patient_list = []\n",
    "    \n",
    "    def add_patient(self, patient):             # Add an method (a function of a class)\n",
    "        self.patient_list.append(patient)"
   ]
  },
  {
   "cell_type": "code",
   "execution_count": 23,
   "metadata": {},
   "outputs": [],
   "source": [
    "WFhospital = Hospital()\n",
    "\n",
    "for patient in patient_objs:\n",
    "    WFhospital.add_patient(patient)"
   ]
  },
  {
   "cell_type": "markdown",
   "metadata": {},
   "source": [
    "## **List Comprehensions** (補充)\n",
    "使用一行code來為list賦值"
   ]
  },
  {
   "cell_type": "markdown",
   "metadata": {},
   "source": [
    "例如\n",
    "-   ```python\n",
    "    [p.get_name() for p in self.patient_list]\n",
    "    ```\n",
    "與\n",
    "-   ```python\n",
    "    for p in self.patient_list:\n",
    "        listname.append(p.get_name())\n",
    "    ```\n",
    "兩者等價"
   ]
  },
  {
   "cell_type": "code",
   "execution_count": 37,
   "metadata": {},
   "outputs": [],
   "source": [
    "# practice\n",
    "# practice\n",
    "\n",
    "class Patient:\n",
    "    global patient_id               # annouce a global variable\n",
    "    patient_id = 0                  # set a initial value\n",
    "\n",
    "    def __init__(self, name):\n",
    "        self.name = name\n",
    "        global patient_id\n",
    "        patient_id += 1             # accumulate the global value\n",
    "        self.pid = patient_id       # using a attribute to store the global value, making the global value merely a counter\n",
    "        self.height = None\n",
    "\n",
    "    def get_name(self):             # these are 'getters'\n",
    "        return self.name\n",
    "    \n",
    "    def get_pid(self):\n",
    "        return self.pid\n",
    "\n",
    "    def get_height(self):\n",
    "        return self.height\n",
    "    \n",
    "    def set_height(self, height):   # this is a 'setter\n",
    "        self.height = int(height)\n",
    "\n",
    "    def get_weight(self):\n",
    "        return self.weight\n",
    "    \n",
    "    def set_weight(self, weight):   # this is a 'setter\n",
    "        self.weight = int(weight)\n",
    "\n",
    "\n",
    "class Hospital:\n",
    "    def __init__(self):\n",
    "        self.patient_list = []      # assign a empty list for patients\n",
    "    \n",
    "    def add_patient(self, patient):\n",
    "        self.patient_list.append(patient)\n",
    "    \n",
    "    def get_names(self):\n",
    "        return [p.get_name() for p in self.patient_list]\n",
    "    \n",
    "    def get_ids(self):\n",
    "        return [patient.get_id() for patient in self.patient_list]\n",
    "    \n",
    "    def get_weights(self):\n",
    "        return [patient.get_weight() for patient in self.patient_list]\n",
    "    \n",
    "    def get_heights(self):\n",
    "        return [patient.get_height() for patient in self.patient_list]\n",
    "    \n",
    "    def get_average_height(self):\n",
    "        accumulated_height = 0\n",
    "        for patient in self.patient_list:\n",
    "            accumulated_height += patient.get_height()\n",
    "        return accumulated_height / len(self.patient_list)\n",
    "    \n",
    "    def get_average_bmi(self):\n",
    "        bmi = []\n",
    "        for patient in self.patient_list:\n",
    "            bmi.append(patient.get_weight() / (patient.get_height() / 100) ** 2 )\n",
    "        return sum(bmi)/len(bmi)\n",
    "        "
   ]
  },
  {
   "cell_type": "code",
   "execution_count": 43,
   "metadata": {},
   "outputs": [
    {
     "name": "stdout",
     "output_type": "stream",
     "text": [
      "----------------------------------------\n",
      "Patient Name: Ling\n",
      "Patient ID: 31\n",
      "Patient Height: 166\n",
      "Patient Weight: 55\n",
      "----------------------------------------\n",
      "Patient Name: John\n",
      "Patient ID: 32\n",
      "Patient Height: 178\n",
      "Patient Weight: 56\n",
      "----------------------------------------\n",
      "Patient Name: Marry\n",
      "Patient ID: 33\n",
      "Patient Height: 155\n",
      "Patient Weight: 57\n",
      "----------------------------------------\n",
      "Patient Name: Josh\n",
      "Patient ID: 34\n",
      "Patient Height: 200\n",
      "Patient Weight: 58\n",
      "----------------------------------------\n",
      "Patient Name: Jean\n",
      "Patient ID: 35\n",
      "Patient Height: 154\n",
      "Patient Weight: 59\n",
      "----------------------------------------\n",
      "Patient Name: Berry\n",
      "Patient ID: 36\n",
      "Patient Height: 162\n",
      "Patient Weight: 60\n",
      "========================================\n",
      "Average Height:     169.16666666666666\n",
      "Average BMI:        20.5998776537067\n"
     ]
    }
   ],
   "source": [
    "patient_objs_2 = []\n",
    "\n",
    "for name in ['Ling', 'John', 'Marry', 'Josh', 'Jean', 'Berry']:\n",
    "    patient_objs_2.append(Patient(name))\n",
    "for i, height in enumerate([166, 178, 155, 200, 154, 162]):\n",
    "    patient_objs_2[i].set_height(height)\n",
    "for i, weight in enumerate([55, 56, 57, 58, 59, 60]):\n",
    "    patient_objs_2[i].set_weight(weight)\n",
    "\n",
    "YPhospital = Hospital()\n",
    "\n",
    "for patient in patient_objs_2:\n",
    "    YPhospital.add_patient(patient)\n",
    "\n",
    "\n",
    "for patient in YPhospital.patient_list:\n",
    "    print('----------------------------------------')\n",
    "    print('Patient Name:', patient.name)\n",
    "    print('Patient ID:', patient.pid)\n",
    "    print('Patient Height:', patient.height)\n",
    "    print('Patient Weight:', patient.weight)\n",
    "print('========================================')\n",
    "print('{:<20}{}'.format('Average Height:', YPhospital.get_average_height()))\n",
    "print('{:<20}{}'.format('Average BMI:', YPhospital.get_average_bmi()))"
   ]
  },
  {
   "cell_type": "code",
   "execution_count": null,
   "metadata": {},
   "outputs": [],
   "source": []
  }
 ],
 "metadata": {
  "kernelspec": {
   "display_name": "base",
   "language": "python",
   "name": "python3"
  },
  "language_info": {
   "codemirror_mode": {
    "name": "ipython",
    "version": 3
   },
   "file_extension": ".py",
   "mimetype": "text/x-python",
   "name": "python",
   "nbconvert_exporter": "python",
   "pygments_lexer": "ipython3",
   "version": "3.10.9"
  },
  "orig_nbformat": 4
 },
 "nbformat": 4,
 "nbformat_minor": 2
}
