{
 "cells": [
  {
   "cell_type": "markdown",
   "metadata": {},
   "source": [
    "# **Python 機器學習在智慧醫療的應用**\n",
    "## **Python programming: basics** (2023-09-22)"
   ]
  },
  {
   "cell_type": "markdown",
   "metadata": {},
   "source": [
    "### **指派變數 (assignment)**\n",
    "- python 裡建立一個變數，是讓一個變數指向 (point to) 一個值的概念。\n",
    "- 大多數情況下，可以簡單理解為「將一個值指派、分發 (assign) 給一個變數」的概念。"
   ]
  },
  {
   "cell_type": "code",
   "execution_count": 2,
   "metadata": {},
   "outputs": [],
   "source": [
    "x = 3       # 指派一個整數 (integer; int)\n",
    "y = 'hello' # 指派一個字串 (string; str)"
   ]
  },
  {
   "cell_type": "markdown",
   "metadata": {},
   "source": [
    "### **查看類別： type() 函式**"
   ]
  },
  {
   "cell_type": "code",
   "execution_count": 3,
   "metadata": {},
   "outputs": [
    {
     "data": {
      "text/plain": [
       "int"
      ]
     },
     "execution_count": 3,
     "metadata": {},
     "output_type": "execute_result"
    }
   ],
   "source": [
    "type(x)     # 查看 x 的類別"
   ]
  },
  {
   "cell_type": "markdown",
   "metadata": {},
   "source": [
    "### **變數相加**\n",
    "- 數值可以四則運算\n",
    "- 字串相加是直接接在第一個詞尾後面\n",
    "- 數值與字串不能相加 (因為類型type不同)"
   ]
  },
  {
   "cell_type": "code",
   "execution_count": 4,
   "metadata": {},
   "outputs": [
    {
     "data": {
      "text/plain": [
       "6"
      ]
     },
     "execution_count": 4,
     "metadata": {},
     "output_type": "execute_result"
    }
   ],
   "source": [
    "x + x       # 整數相加"
   ]
  },
  {
   "cell_type": "code",
   "execution_count": 5,
   "metadata": {},
   "outputs": [
    {
     "data": {
      "text/plain": [
       "'hellohello'"
      ]
     },
     "execution_count": 5,
     "metadata": {},
     "output_type": "execute_result"
    }
   ],
   "source": [
    "y + y       # 字串相加"
   ]
  },
  {
   "cell_type": "code",
   "execution_count": 6,
   "metadata": {},
   "outputs": [
    {
     "ename": "TypeError",
     "evalue": "unsupported operand type(s) for +: 'int' and 'str'",
     "output_type": "error",
     "traceback": [
      "\u001b[1;31m---------------------------------------------------------------------------\u001b[0m",
      "\u001b[1;31mTypeError\u001b[0m                                 Traceback (most recent call last)",
      "\u001b[1;32md:\\git\\Machine-Learning-in-NYCU\\2023-09-22 Python Basics\\in-class.ipynb Cell 9\u001b[0m line \u001b[0;36m1\n\u001b[1;32m----> <a href='vscode-notebook-cell:/d%3A/git/Machine-Learning-in-NYCU/2023-09-22%20Python%20Basics/in-class.ipynb#X11sZmlsZQ%3D%3D?line=0'>1</a>\u001b[0m x \u001b[39m+\u001b[39;49m y       \u001b[39m# TypeError\u001b[39;00m\n",
      "\u001b[1;31mTypeError\u001b[0m: unsupported operand type(s) for +: 'int' and 'str'"
     ]
    }
   ],
   "source": [
    "x + y       # TypeError"
   ]
  },
  {
   "cell_type": "markdown",
   "metadata": {},
   "source": [
    "### **清單 (list)**\n",
    "- 使用 `[]` 來指派\n",
    "- list 的指標 (index; 索引) 從 0 開始算起，可以使用 `清單名稱[索引號]` 來引用 list 中的元素。\n",
    "- 使用 `append()` 方法 (method) 來加入單一元素\n",
    "- 使用 `extend()` 方法 (method) 來加入另一個清單的元素\n",
    "\n",
    ".\n",
    "- 查看 [method 跟 function 的差異](https://pythongeeks.org/python-methods-vs-functions/)"
   ]
  },
  {
   "cell_type": "code",
   "execution_count": 7,
   "metadata": {},
   "outputs": [
    {
     "name": "stdout",
     "output_type": "stream",
     "text": [
      "[1, 2, 3, 4, 5]\n",
      "[1, 2, 3, 4, 5, 6, 7, 8]\n"
     ]
    }
   ],
   "source": [
    "ls = [1, 2, 3, 4]       # 指派 (創建) 一個新的清單\n",
    "ls.append(5)            # 加入 5 這個元素\n",
    "print(ls)\n",
    "ls.extend([6, 7, 8])    # 加入清單 [6, 7, 8] 裡的所有元素\n",
    "print(ls)"
   ]
  },
  {
   "cell_type": "markdown",
   "metadata": {},
   "source": [
    "### **函式 (function) 的定義**\n",
    "- 使用 `def` 來進行定義：\n",
    "    ```python\n",
    "    def 函式名稱(引數):\n",
    "        要執行的內容\n",
    "    ```\n",
    "    如果函式會回傳一個值，可以使用 `return` 關鍵字 (keyword)\n",
    "    ```python\n",
    "    def 函式名稱(引數):\n",
    "        要執行的內容\n",
    "        return 要回傳的東西\n",
    "    ```"
   ]
  },
  {
   "cell_type": "code",
   "execution_count": 8,
   "metadata": {},
   "outputs": [
    {
     "name": "stdout",
     "output_type": "stream",
     "text": [
      "[1, 2, 3, 'John', 'Sam', 'Marry']\n"
     ]
    }
   ],
   "source": [
    "def add2list(oldlist, newlist):      # 引數 (argument) 有兩個清單\n",
    "    for elm in newlist:\n",
    "        oldlist.append(elm)          # 對所有 newlist 裡面的元素，都放到 mylist 後面\n",
    "    return oldlist                   # 回傳變動過後的值\n",
    "\n",
    "# 指派兩個新的清單\n",
    "list1 = [1, 2, 3]\n",
    "list2 = ['John', 'Sam', 'Marry']    \n",
    "\n",
    "# 實驗看看\n",
    "print(add2list(list1, list2))       # 試圖 print out 兩個清單合併的結果"
   ]
  },
  {
   "cell_type": "code",
   "execution_count": 9,
   "metadata": {},
   "outputs": [
    {
     "name": "stdout",
     "output_type": "stream",
     "text": [
      "0 John\n",
      "1 Sam\n",
      "2 Marry\n"
     ]
    }
   ],
   "source": [
    "list3 = ['John', 'Sam', 'Marry']\n",
    "for index, elm in enumerate(list3):\n",
    "    print(index, elm)"
   ]
  },
  {
   "cell_type": "markdown",
   "metadata": {},
   "source": [
    "### **字典 (Dictionary; `dict`)**\n",
    "- 永遠是一對一的，一個 key 值對上一個 value。\n",
    "- 可以使用 `{}` 進行指派\n",
    "- data structure 上屬於 hash table，所以不需要跑loop找值，具有搜尋上的效率"
   ]
  },
  {
   "cell_type": "code",
   "execution_count": 10,
   "metadata": {},
   "outputs": [],
   "source": [
    "d = {'weight': 68, 'height': 170}   # d = dict()"
   ]
  },
  {
   "cell_type": "code",
   "execution_count": 11,
   "metadata": {},
   "outputs": [
    {
     "data": {
      "text/plain": [
       "68"
      ]
     },
     "execution_count": 11,
     "metadata": {},
     "output_type": "execute_result"
    }
   ],
   "source": [
    "d['weight']         # 輸入 key 找 value"
   ]
  },
  {
   "cell_type": "code",
   "execution_count": 12,
   "metadata": {},
   "outputs": [
    {
     "data": {
      "text/plain": [
       "dict_items([('weight', 68), ('height', 170)])"
      ]
     },
     "execution_count": 12,
     "metadata": {},
     "output_type": "execute_result"
    }
   ],
   "source": [
    "d.items()           # 取出所有內容"
   ]
  },
  {
   "cell_type": "markdown",
   "metadata": {},
   "source": [
    "### **檔案讀取**"
   ]
  },
  {
   "cell_type": "markdown",
   "metadata": {},
   "source": [
    "- 讀取 json 檔可以使用 `json` module，使用 `import json` 來引用\n",
    "- 使用 `with open()` 來開啟檔案\n",
    "  - `'w'` 代表寫入模式"
   ]
  },
  {
   "cell_type": "code",
   "execution_count": 18,
   "metadata": {},
   "outputs": [],
   "source": [
    "import json\n",
    "fname = 'my.json'               # 在與程式檔相同目錄的位置下建立一個 my.json\n",
    "with open(fname, 'w') as f:\n",
    "    json.dump(d, f, indent=8)   # indent 是 json 中每一層的縮排空格數"
   ]
  },
  {
   "cell_type": "code",
   "execution_count": 19,
   "metadata": {},
   "outputs": [],
   "source": [
    "with open(fname, 'r') as f:\n",
    "    new_d = json.load(f)        # 從檔案中 loading 一些資料"
   ]
  },
  {
   "cell_type": "code",
   "execution_count": 20,
   "metadata": {},
   "outputs": [
    {
     "data": {
      "text/plain": [
       "{'weight': 68, 'height': 170}"
      ]
     },
     "execution_count": 20,
     "metadata": {},
     "output_type": "execute_result"
    }
   ],
   "source": [
    "new_d"
   ]
  },
  {
   "cell_type": "markdown",
   "metadata": {},
   "source": [
    "## **物件導向程式設計 (Object-Oriented Programming; OOP)**"
   ]
  },
  {
   "cell_type": "markdown",
   "metadata": {},
   "source": [
    "### **建立類別 (class)**"
   ]
  },
  {
   "cell_type": "markdown",
   "metadata": {},
   "source": [
    "建立模板：\n",
    "\n",
    "```python\n",
    "class 類別名稱:\n",
    "\n",
    "    def __init_(self, 輸入值1, 輸入值2, ...):        # 規定在創建這個類別時，應該要輸入哪些東西\n",
    "        self.屬性1 = 輸入值1            # 真正創建屬性 (attribute) 的地方\n",
    "        self.屬性2 = 輸入值2            # 真正創建屬性 (attribute) 的地方\n",
    "        ...\n",
    "\n",
    "    def 函式(self, 值):\n",
    "        程式內容\n",
    "        return 要返回的東西\n",
    "```\n",
    "\n",
    "如果要創建一個屬於該類別的物件：\n",
    "\n",
    "```python\n",
    "物件A = 類別名稱(輸入值1, 輸入值2, ...)\n",
    "print(物件A.屬性1)                      # 此時的物件A 會對應到建立類別時的 self\n",
    "```"
   ]
  },
  {
   "cell_type": "markdown",
   "metadata": {},
   "source": []
  }
 ],
 "metadata": {
  "kernelspec": {
   "display_name": "base",
   "language": "python",
   "name": "python3"
  },
  "language_info": {
   "codemirror_mode": {
    "name": "ipython",
    "version": 3
   },
   "file_extension": ".py",
   "mimetype": "text/x-python",
   "name": "python",
   "nbconvert_exporter": "python",
   "pygments_lexer": "ipython3",
   "version": "3.10.9"
  },
  "orig_nbformat": 4
 },
 "nbformat": 4,
 "nbformat_minor": 2
}
