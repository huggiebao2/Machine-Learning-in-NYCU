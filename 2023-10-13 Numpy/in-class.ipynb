{
 "cells": [
  {
   "cell_type": "markdown",
   "metadata": {},
   "source": [
    "## **Numpy 的使用**\n",
    "### **匯入 Numpy**\n",
    "通常會使用 `import numpy as np` 來將 Numpy 匯入，並將其簡稱為 `np`"
   ]
  },
  {
   "cell_type": "code",
   "execution_count": 1,
   "metadata": {},
   "outputs": [],
   "source": [
    "import numpy as np"
   ]
  },
  {
   "cell_type": "markdown",
   "metadata": {},
   "source": [
    "### **建立一個 Array (陣列)**"
   ]
  },
  {
   "cell_type": "code",
   "execution_count": 6,
   "metadata": {},
   "outputs": [
    {
     "name": "stdout",
     "output_type": "stream",
     "text": [
      "[0 1 2 3 4 5 6 7 8 9]\n"
     ]
    }
   ],
   "source": [
    "# range from 0 to 10\n",
    "z = np.arange(10)\n",
    "print(z)"
   ]
  },
  {
   "cell_type": "markdown",
   "metadata": {},
   "source": [
    "### **查看變數或Array的維度 (dimension)**\n",
    "Numpy的陣列擁有一個屬性稱作 `shape`，可以查看其維度與大小。"
   ]
  },
  {
   "cell_type": "code",
   "execution_count": 9,
   "metadata": {},
   "outputs": [
    {
     "name": "stdout",
     "output_type": "stream",
     "text": [
      "data type:     <class 'numpy.ndarray'>\n",
      "data shape:    (10,)\n"
     ]
    }
   ],
   "source": [
    "print('{:<15}'.format('data type:'), end='')\n",
    "print(type(z))\n",
    "\n",
    "print('{:<15}'.format('data shape:'), end='')\n",
    "print(z.shape)"
   ]
  },
  {
   "cell_type": "markdown",
   "metadata": {},
   "source": [
    "### **擴充 Array 的維度**\n",
    "- 使用 Numpy Array 的 `expand_dims()` method 來擴充維度。\n",
    "- `axis` parameter 用來指定要插入的新維度在哪裡，index 從 0 開始算。"
   ]
  },
  {
   "cell_type": "code",
   "execution_count": 12,
   "metadata": {},
   "outputs": [
    {
     "data": {
      "text/plain": [
       "(10, 1)"
      ]
     },
     "execution_count": 12,
     "metadata": {},
     "output_type": "execute_result"
    }
   ],
   "source": [
    "# 當矩陣要進行相加或相乘時可能會用到\n",
    "np.expand_dims(z, axis = -1).shape"
   ]
  },
  {
   "cell_type": "code",
   "execution_count": 19,
   "metadata": {},
   "outputs": [
    {
     "name": "stdout",
     "output_type": "stream",
     "text": [
      "data type (z1):     <class 'numpy.ndarray'>\n",
      "data shape (z1):    (1, 10, 1)\n"
     ]
    }
   ],
   "source": [
    "# 在後面 INDEX=-1 和前面 INDEX=0 插入新維度\n",
    "z1 = np.expand_dims( np.expand_dims(z, axis = -1) , axis = 0)\n",
    "\n",
    "print('{:<20}'.format('data type (z1):'), end='')\n",
    "print(type(z1))\n",
    "print('{:<20}'.format('data shape (z1):'), end='')\n",
    "print(z1.shape)"
   ]
  },
  {
   "cell_type": "markdown",
   "metadata": {},
   "source": [
    "### **刪除 Array 的維度**\n",
    "- 使用 Numpy Array 的 `squeeze()` method 來擴充維度。\n",
    "- `axis` parameter 用來指定所要刪除的維度，index 從 0 開始算。"
   ]
  },
  {
   "cell_type": "code",
   "execution_count": 20,
   "metadata": {},
   "outputs": [
    {
     "data": {
      "text/plain": [
       "(1, 10)"
      ]
     },
     "execution_count": 20,
     "metadata": {},
     "output_type": "execute_result"
    }
   ],
   "source": [
    "np.squeeze(z1, axis = -1).shape"
   ]
  },
  {
   "cell_type": "markdown",
   "metadata": {},
   "source": [
    "### **根據既有 Array 來重新塑造形狀**\n",
    "- 使用 Numpy Array 的 `reshape()` method 來擴充維度。"
   ]
  },
  {
   "cell_type": "code",
   "execution_count": 27,
   "metadata": {},
   "outputs": [
    {
     "data": {
      "text/plain": [
       "array([[0, 1, 2, 3, 4],\n",
       "       [5, 6, 7, 8, 9]])"
      ]
     },
     "execution_count": 27,
     "metadata": {},
     "output_type": "execute_result"
    }
   ],
   "source": [
    "# 重新塑形\n",
    "z2 = z.reshape((2, 5))\n",
    "\n",
    "z2\n"
   ]
  },
  {
   "cell_type": "code",
   "execution_count": 28,
   "metadata": {},
   "outputs": [
    {
     "name": "stdout",
     "output_type": "stream",
     "text": [
      "data type (z2):     <class 'numpy.ndarray'>\n",
      "data shape (z2):    (2, 5)\n"
     ]
    }
   ],
   "source": [
    "print('{:<20}'.format('data type (z2):'), end='')\n",
    "print(type(z2))\n",
    "print('{:<20}'.format('data shape (z2):'), end='')\n",
    "print(z2.shape)"
   ]
  },
  {
   "cell_type": "markdown",
   "metadata": {},
   "source": [
    "### **堆疊 Array** (Stacking)\n",
    "- `hstack` 是指 horizontal stack，橫向堆疊。\n",
    "- `vstack` 是指 vertical stack，縱向堆疊。"
   ]
  },
  {
   "cell_type": "code",
   "execution_count": 29,
   "metadata": {},
   "outputs": [
    {
     "data": {
      "text/plain": [
       "array([[0, 1, 2, 3, 4, 0, 1, 2, 3, 4],\n",
       "       [5, 6, 7, 8, 9, 5, 6, 7, 8, 9]])"
      ]
     },
     "execution_count": 29,
     "metadata": {},
     "output_type": "execute_result"
    }
   ],
   "source": [
    "np.hstack((z2, z2))"
   ]
  },
  {
   "cell_type": "code",
   "execution_count": 30,
   "metadata": {},
   "outputs": [
    {
     "data": {
      "text/plain": [
       "array([[0, 1, 2, 3, 4],\n",
       "       [5, 6, 7, 8, 9],\n",
       "       [0, 1, 2, 3, 4],\n",
       "       [5, 6, 7, 8, 9]])"
      ]
     },
     "execution_count": 30,
     "metadata": {},
     "output_type": "execute_result"
    }
   ],
   "source": [
    "np.vstack((z2, z2))"
   ]
  },
  {
   "cell_type": "markdown",
   "metadata": {},
   "source": [
    "### **max()**"
   ]
  },
  {
   "cell_type": "code",
   "execution_count": 31,
   "metadata": {},
   "outputs": [
    {
     "data": {
      "text/plain": [
       "array([4, 9])"
      ]
     },
     "execution_count": 31,
     "metadata": {},
     "output_type": "execute_result"
    }
   ],
   "source": [
    "np.max(z2, axis = 1)"
   ]
  },
  {
   "cell_type": "markdown",
   "metadata": {},
   "source": [
    "### **argmax()**\n",
    "- argument maximum"
   ]
  },
  {
   "cell_type": "code",
   "execution_count": 32,
   "metadata": {},
   "outputs": [
    {
     "data": {
      "text/plain": [
       "array([4, 4], dtype=int64)"
      ]
     },
     "execution_count": 32,
     "metadata": {},
     "output_type": "execute_result"
    }
   ],
   "source": [
    "np.argmax(z2, axis = 1)"
   ]
  },
  {
   "cell_type": "markdown",
   "metadata": {},
   "source": [
    "### **轉置 Array** (轉置矩陣)\n",
    "- 透過呼叫 Numpy Array 的 `.T` 屬性來取得轉置矩陣"
   ]
  },
  {
   "cell_type": "code",
   "execution_count": 34,
   "metadata": {},
   "outputs": [
    {
     "data": {
      "text/plain": [
       "array([[0, 5],\n",
       "       [1, 6],\n",
       "       [2, 7],\n",
       "       [3, 8],\n",
       "       [4, 9]])"
      ]
     },
     "execution_count": 34,
     "metadata": {},
     "output_type": "execute_result"
    }
   ],
   "source": [
    "z2.T # 轉置矩陣"
   ]
  },
  {
   "cell_type": "markdown",
   "metadata": {},
   "source": [
    "### **Array 的乘法**\n",
    "- 使用 `*` method 來進行。"
   ]
  },
  {
   "cell_type": "code",
   "execution_count": 41,
   "metadata": {},
   "outputs": [
    {
     "name": "stdout",
     "output_type": "stream",
     "text": [
      "[0 1 2 3 4]\n",
      "data shape (a):     (5,)\n",
      "-------------------------------\n",
      "[5 6 7 8 9]\n",
      "data shape (b):     (5,)\n",
      "-------------------------------\n",
      "[ 0  6 14 24 36]\n",
      "data shape (a*b):   (5,)\n"
     ]
    }
   ],
   "source": [
    "a = z2[0, :]    # 取 z2 的第一個維度的第 0 組資料\n",
    "b = z2[1, :]    # 取 z2 的第一個維度的第 1 組資料\n",
    "print(a)\n",
    "print('{:<20}'.format('data shape (a):'), end='')\n",
    "print(a.shape)\n",
    "\n",
    "print('-------------------------------')\n",
    "print(b)\n",
    "print('{:<20}'.format('data shape (b):'), end='')\n",
    "print(b.shape)\n",
    "\n",
    "print('-------------------------------')\n",
    "print(a * b)\n",
    "print('{:<20}'.format('data shape (a*b):'), end='')\n",
    "print((a*b).shape)\n",
    "# a.dot(b)"
   ]
  },
  {
   "cell_type": "code",
   "execution_count": null,
   "metadata": {},
   "outputs": [],
   "source": []
  }
 ],
 "metadata": {
  "kernelspec": {
   "display_name": "base",
   "language": "python",
   "name": "python3"
  },
  "language_info": {
   "codemirror_mode": {
    "name": "ipython",
    "version": 3
   },
   "file_extension": ".py",
   "mimetype": "text/x-python",
   "name": "python",
   "nbconvert_exporter": "python",
   "pygments_lexer": "ipython3",
   "version": "3.10.9"
  }
 },
 "nbformat": 4,
 "nbformat_minor": 2
}
