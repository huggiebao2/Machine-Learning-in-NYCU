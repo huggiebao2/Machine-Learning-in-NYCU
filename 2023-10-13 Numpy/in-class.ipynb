{
 "cells": [
  {
   "cell_type": "markdown",
   "metadata": {},
   "source": [
    "## **Numpy 的使用**\n",
    "### **匯入 Numpy**\n",
    "通常會使用 `import numpy as np` 來將 Numpy 匯入，並將其簡稱為 `np`"
   ]
  },
  {
   "cell_type": "code",
   "execution_count": 3,
   "metadata": {},
   "outputs": [],
   "source": [
    "import numpy as np"
   ]
  },
  {
   "cell_type": "markdown",
   "metadata": {},
   "source": [
    "### **建立一個 Array (陣列)**"
   ]
  },
  {
   "cell_type": "code",
   "execution_count": 4,
   "metadata": {},
   "outputs": [
    {
     "name": "stdout",
     "output_type": "stream",
     "text": [
      "[0 1 2 3 4 5 6 7 8 9]\n"
     ]
    }
   ],
   "source": [
    "# range from 0 to 9\n",
    "z = np.arange(10)\n",
    "print(z)"
   ]
  },
  {
   "cell_type": "markdown",
   "metadata": {},
   "source": [
    "### **查看變數或Array的維度 (dimension)**\n",
    "Numpy的陣列擁有一個屬性稱作 `shape`，可以查看其維度與大小。"
   ]
  },
  {
   "cell_type": "code",
   "execution_count": 5,
   "metadata": {},
   "outputs": [
    {
     "name": "stdout",
     "output_type": "stream",
     "text": [
      "data type:     <class 'numpy.ndarray'>\n",
      "data shape:    (10,)\n"
     ]
    }
   ],
   "source": [
    "print('{:<15}'.format('data type:'), end='')\n",
    "print(type(z))\n",
    "\n",
    "print('{:<15}'.format('data shape:'), end='')\n",
    "print(z.shape)"
   ]
  },
  {
   "cell_type": "markdown",
   "metadata": {},
   "source": [
    "### **擴充 Array 的維度**\n",
    "- 使用 Numpy Array 的 `expand_dims()` method 來擴充維度。\n",
    "- `axis` parameter 用來指定要插入的新維度在哪裡，index 從 0 開始算。"
   ]
  },
  {
   "cell_type": "code",
   "execution_count": 6,
   "metadata": {},
   "outputs": [
    {
     "data": {
      "text/plain": [
       "(10, 1)"
      ]
     },
     "execution_count": 6,
     "metadata": {},
     "output_type": "execute_result"
    }
   ],
   "source": [
    "# 當矩陣要進行相加或相乘時可能會用到\n",
    "np.expand_dims(z, axis = -1).shape"
   ]
  },
  {
   "cell_type": "code",
   "execution_count": 7,
   "metadata": {},
   "outputs": [
    {
     "name": "stdout",
     "output_type": "stream",
     "text": [
      "data type (z1):     <class 'numpy.ndarray'>\n",
      "data shape (z1):    (1, 10, 1)\n"
     ]
    }
   ],
   "source": [
    "# 在後面 INDEX=-1 和前面 INDEX=0 插入新維度\n",
    "z1 = np.expand_dims( np.expand_dims(z, axis = -1) , axis = 0)\n",
    "\n",
    "print('{:<20}'.format('data type (z1):'), end='')\n",
    "print(type(z1))\n",
    "print('{:<20}'.format('data shape (z1):'), end='')\n",
    "print(z1.shape)"
   ]
  },
  {
   "cell_type": "markdown",
   "metadata": {},
   "source": [
    "### **刪除 Array 的維度**\n",
    "- 使用 Numpy Array 的 `squeeze()` method 來擴充維度。\n",
    "- `axis` parameter 用來指定所要刪除的維度，index 從 0 開始算。"
   ]
  },
  {
   "cell_type": "code",
   "execution_count": 8,
   "metadata": {},
   "outputs": [
    {
     "data": {
      "text/plain": [
       "(1, 10)"
      ]
     },
     "execution_count": 8,
     "metadata": {},
     "output_type": "execute_result"
    }
   ],
   "source": [
    "np.squeeze(z1, axis = -1).shape"
   ]
  },
  {
   "cell_type": "markdown",
   "metadata": {},
   "source": [
    "### **根據既有 Array 來重新塑造形狀**\n",
    "- 使用 Numpy Array 的 `reshape()` method 來擴充維度。"
   ]
  },
  {
   "cell_type": "code",
   "execution_count": 9,
   "metadata": {},
   "outputs": [
    {
     "data": {
      "text/plain": [
       "array([[0, 1, 2, 3, 4],\n",
       "       [5, 6, 7, 8, 9]])"
      ]
     },
     "execution_count": 9,
     "metadata": {},
     "output_type": "execute_result"
    }
   ],
   "source": [
    "# 重新塑形\n",
    "z2 = z.reshape((2, 5))\n",
    "\n",
    "z2\n"
   ]
  },
  {
   "cell_type": "code",
   "execution_count": 10,
   "metadata": {},
   "outputs": [
    {
     "name": "stdout",
     "output_type": "stream",
     "text": [
      "data type (z2):     <class 'numpy.ndarray'>\n",
      "data shape (z2):    (2, 5)\n"
     ]
    }
   ],
   "source": [
    "print('{:<20}'.format('data type (z2):'), end='')\n",
    "print(type(z2))\n",
    "print('{:<20}'.format('data shape (z2):'), end='')\n",
    "print(z2.shape)"
   ]
  },
  {
   "cell_type": "markdown",
   "metadata": {},
   "source": [
    "### **堆疊 Array** (Stacking)\n",
    "- `hstack` 是指 horizontal stack，橫向堆疊。\n",
    "- `vstack` 是指 vertical stack，縱向堆疊。"
   ]
  },
  {
   "cell_type": "code",
   "execution_count": 11,
   "metadata": {},
   "outputs": [
    {
     "data": {
      "text/plain": [
       "array([[0, 1, 2, 3, 4, 0, 1, 2, 3, 4],\n",
       "       [5, 6, 7, 8, 9, 5, 6, 7, 8, 9]])"
      ]
     },
     "execution_count": 11,
     "metadata": {},
     "output_type": "execute_result"
    }
   ],
   "source": [
    "np.hstack((z2, z2))"
   ]
  },
  {
   "cell_type": "code",
   "execution_count": 12,
   "metadata": {},
   "outputs": [
    {
     "data": {
      "text/plain": [
       "array([[0, 1, 2, 3, 4],\n",
       "       [5, 6, 7, 8, 9],\n",
       "       [0, 1, 2, 3, 4],\n",
       "       [5, 6, 7, 8, 9]])"
      ]
     },
     "execution_count": 12,
     "metadata": {},
     "output_type": "execute_result"
    }
   ],
   "source": [
    "np.vstack((z2, z2))"
   ]
  },
  {
   "cell_type": "markdown",
   "metadata": {},
   "source": [
    "### **尋找最大值**\n",
    "- 尋找矩陣中的最大值，可以使用 `.max()` 這個 method。\n",
    "  - `axis` 用來設定在哪個軸上進行搜索\n",
    "    - `axis=None` 或是不輸入 `axis`，表示找的是整個矩陣中的最大值。（預設）\n",
    "    - `axis=0` 表示在欄位 (垂直位) 上操作，返回每欄的最大值。\n",
    "    - `axis=1` 表示在列 (水平位) 上操作，返回每列的最大值。\n",
    "- 尋找矩陣中最大值的位置，可以使用 `.argmax()` 這個 method。\n",
    "  - 細項同 `.max()`。"
   ]
  },
  {
   "cell_type": "code",
   "execution_count": 28,
   "metadata": {},
   "outputs": [
    {
     "name": "stdout",
     "output_type": "stream",
     "text": [
      "np.max(arr)               = 9\n",
      "np.max(arr, axis=None)    = 9\n",
      "np.max(arr, axis=0)       = [7 8 9]\n",
      "np.max(arr, axis=1)       = [9 8 7]\n",
      "np.argmax(arr)            = 2\n",
      "np.argmax(arr, axis=None) = 2\n",
      "np.argmax(arr, axis=0)    = [2 1 0]\n",
      "np.argmax(arr, axis=1)    = [2 1 0]\n"
     ]
    }
   ],
   "source": [
    "arr = np.array([[1, 2, 9],\n",
    "                [4, 8, 6],\n",
    "                [7, 5, 3]])\n",
    "\n",
    "# 找出最大值\n",
    "print('{:<25} ='.format('np.max(arr)'), np.max(arr))\n",
    "print('{:<25} ='.format('np.max(arr, axis=None)'), np.max(arr, axis=None))\n",
    "print('{:<25} ='.format('np.max(arr, axis=0)'), np.max(arr, axis=0))\n",
    "print('{:<25} ='.format('np.max(arr, axis=1)'), np.max(arr, axis=1))\n",
    "\n",
    "# 找出最大值位置\n",
    "print('{:<25} ='.format('np.argmax(arr)'), np.argmax(arr))\n",
    "print('{:<25} ='.format('np.argmax(arr, axis=None)'), np.argmax(arr, axis=None))\n",
    "print('{:<25} ='.format('np.argmax(arr, axis=0)'), np.argmax(arr, axis=0))\n",
    "print('{:<25} ='.format('np.argmax(arr, axis=1)'), np.argmax(arr, axis=1))"
   ]
  },
  {
   "cell_type": "code",
   "execution_count": 14,
   "metadata": {},
   "outputs": [
    {
     "data": {
      "text/plain": [
       "array([4, 4], dtype=int64)"
      ]
     },
     "execution_count": 14,
     "metadata": {},
     "output_type": "execute_result"
    }
   ],
   "source": [
    "np.argmax(z2, axis = 1)"
   ]
  },
  {
   "cell_type": "markdown",
   "metadata": {},
   "source": [
    "### **轉置 Array** (轉置矩陣)\n",
    "- 透過呼叫 Numpy Array 的 `.T` 屬性來取得轉置矩陣"
   ]
  },
  {
   "cell_type": "code",
   "execution_count": 15,
   "metadata": {},
   "outputs": [
    {
     "data": {
      "text/plain": [
       "array([[0, 5],\n",
       "       [1, 6],\n",
       "       [2, 7],\n",
       "       [3, 8],\n",
       "       [4, 9]])"
      ]
     },
     "execution_count": 15,
     "metadata": {},
     "output_type": "execute_result"
    }
   ],
   "source": [
    "z2.T        # 轉置矩陣"
   ]
  },
  {
   "cell_type": "markdown",
   "metadata": {},
   "source": [
    "### **Array 的乘法**\n",
    "- 使用 `*` 運算子來進行**元素**層級的乘法。\n",
    "- 使用 `.dot()` method 來進行一維或二維矩陣的**內積**。\n",
    "- 使用 `matmul()` function 來進行**矩陣乘法**。"
   ]
  },
  {
   "cell_type": "markdown",
   "metadata": {},
   "source": [
    "#### **元素相乘 (a*b)**"
   ]
  },
  {
   "cell_type": "code",
   "execution_count": 16,
   "metadata": {},
   "outputs": [
    {
     "name": "stdout",
     "output_type": "stream",
     "text": [
      "[0 1 2 3 4]\n",
      "data shape (a):     (5,)\n",
      "-------------------------------\n",
      "[5 6 7 8 9]\n",
      "data shape (b):     (5,)\n",
      "-------------------------------\n",
      "[ 0  6 14 24 36]\n",
      "data shape (a*b):   (5,)\n"
     ]
    }
   ],
   "source": [
    "a = z2[0, :]    # 取 z2 的第一個維度的第 0 組資料\n",
    "b = z2[1, :]    # 取 z2 的第一個維度的第 1 組資料\n",
    "\n",
    "# 查看 a 的形狀\n",
    "print(a)\n",
    "print('{:<20}'.format('data shape (a):'), end='')\n",
    "print(a.shape)\n",
    "\n",
    "# 查看 b 的情況\n",
    "print('-------------------------------')\n",
    "print(b)\n",
    "print('{:<20}'.format('data shape (b):'), end='')\n",
    "print(b.shape)\n",
    "\n",
    "# 查看 a*b 的情況 (a 與 b 的元素相乘)\n",
    "print('-------------------------------')\n",
    "print(a * b)\n",
    "print('{:<20}'.format('data shape (a*b):'), end='')\n",
    "print((a*b).shape)"
   ]
  },
  {
   "cell_type": "markdown",
   "metadata": {},
   "source": [
    "#### **一維矩陣 (向量) 的內積 (a.dot(b))**"
   ]
  },
  {
   "cell_type": "code",
   "execution_count": 17,
   "metadata": {},
   "outputs": [
    {
     "name": "stdout",
     "output_type": "stream",
     "text": [
      "32\n",
      "-------------------------------\n",
      "data type (result): <class 'numpy.int32'>\n",
      "-------------------------------\n",
      "data shape (result):()\n"
     ]
    }
   ],
   "source": [
    "# 一維數組的內積\n",
    "vector1 = np.array([1, 2, 3])\n",
    "vector2 = np.array([4, 5, 6])\n",
    "result = np.dot(vector1, vector2)  # 結果是 1*4 + 2*5 + 3*6 = 32\n",
    "\n",
    "# 查看 result 的情況 (vector1 與 vector2 內積)\n",
    "print(result)\n",
    "\n",
    "print('-------------------------------')\n",
    "print('{:<20}'.format('data type (result):'), end='')   # 轉為純量\n",
    "print(type(result))\n",
    "\n",
    "print('-------------------------------')\n",
    "print('{:<20}'.format('data shape (result):'), end='')\n",
    "print((result).shape)"
   ]
  },
  {
   "cell_type": "markdown",
   "metadata": {},
   "source": [
    "#### **二維矩陣的內積 (a.dot(b))**"
   ]
  },
  {
   "cell_type": "code",
   "execution_count": 18,
   "metadata": {},
   "outputs": [
    {
     "name": "stdout",
     "output_type": "stream",
     "text": [
      "[[19 22]\n",
      " [43 50]]\n",
      "-------------------------------\n",
      "data type (result2):   <class 'numpy.ndarray'>\n",
      "-------------------------------\n",
      "data shape (result2):  (2, 2)\n"
     ]
    }
   ],
   "source": [
    "# 二維矩陣的乘法\n",
    "matrix1 = np.array([[1, 2], [3, 4]])\n",
    "matrix2 = np.array([[5, 6], [7, 8]])\n",
    "result2 = np.dot(matrix1, matrix2)\n",
    "\n",
    "# 查看 result 的情況 (matrix1 與 matrix2 內積)\n",
    "# 結果是一個新的矩陣:\n",
    "# [[1*5 + 2*7, 1*6 + 2*8],\n",
    "#  [3*5 + 4*7, 3*6 + 4*8]]\n",
    "print(result2)\n",
    "\n",
    "print('-------------------------------')\n",
    "print('{:<23}'.format('data type (result2):'), end='')   # 轉為純量\n",
    "print(type(result2))\n",
    "\n",
    "print('-------------------------------')\n",
    "print('{:<23}'.format('data shape (result2):'), end='')\n",
    "print((result2).shape)"
   ]
  },
  {
   "cell_type": "markdown",
   "metadata": {},
   "source": [
    "#### **兩個矩陣的乘法 (matmul(a, b))**"
   ]
  },
  {
   "cell_type": "code",
   "execution_count": 19,
   "metadata": {},
   "outputs": [
    {
     "data": {
      "text/plain": [
       "array([[ 30,  80],\n",
       "       [ 80, 255]])"
      ]
     },
     "execution_count": 19,
     "metadata": {},
     "output_type": "execute_result"
    }
   ],
   "source": [
    "np.matmul(z2, z2.T)"
   ]
  },
  {
   "cell_type": "markdown",
   "metadata": {},
   "source": [
    "#### **對 Array 進行 size 的調整** (對所有元素做倍率調整)\n",
    "- 使用 `power(array_name, constant)` 來達成 (其實一樣可以做兩個矩陣的乘法，詳情[見此](https://numpy.org/doc/stable/reference/generated/numpy.power.html))"
   ]
  },
  {
   "cell_type": "code",
   "execution_count": 20,
   "metadata": {},
   "outputs": [
    {
     "data": {
      "text/plain": [
       "array([[0.        , 1.        , 1.41421356, 1.73205081, 2.        ],\n",
       "       [2.23606798, 2.44948974, 2.64575131, 2.82842712, 3.        ]])"
      ]
     },
     "execution_count": 20,
     "metadata": {},
     "output_type": "execute_result"
    }
   ],
   "source": [
    "np.power(z2, 0.5)"
   ]
  },
  {
   "cell_type": "markdown",
   "metadata": {},
   "source": [
    "- 使用 `sqrt(array_name)` function 也可以達到與 `power(array_name, 0.5)` 一樣效果"
   ]
  },
  {
   "cell_type": "markdown",
   "metadata": {},
   "source": [
    "### **lambda 表達式**\n",
    "- 使用一行程式碼來定義函數\n",
    "\n",
    "語法比較：\n",
    "- 傳統函式定義方法：\n",
    "```python\n",
    "    def 函數名稱(要放入的變數):\n",
    "        要做的計算\n",
    "        return 要返回的變數\n",
    "```\n",
    "- lambda 表達式的函式定義方法\n",
    "```python\n",
    "    函數名稱 = lambda 要放入的變數: 要返回的變數需要做的計算\n",
    "```"
   ]
  },
  {
   "cell_type": "code",
   "execution_count": 21,
   "metadata": {},
   "outputs": [
    {
     "name": "stdout",
     "output_type": "stream",
     "text": [
      "244\n",
      "244\n"
     ]
    }
   ],
   "source": [
    "def plus_trad(x, y):\n",
    "    result = x + y\n",
    "    return result\n",
    "\n",
    "plus_lambda = lambda x, y: x + y\n",
    "\n",
    "print(plus_trad(91, 153))\n",
    "print(plus_lambda(91, 153))"
   ]
  }
 ],
 "metadata": {
  "kernelspec": {
   "display_name": "base",
   "language": "python",
   "name": "python3"
  },
  "language_info": {
   "codemirror_mode": {
    "name": "ipython",
    "version": 3
   },
   "file_extension": ".py",
   "mimetype": "text/x-python",
   "name": "python",
   "nbconvert_exporter": "python",
   "pygments_lexer": "ipython3",
   "version": "3.10.9"
  }
 },
 "nbformat": 4,
 "nbformat_minor": 2
}
